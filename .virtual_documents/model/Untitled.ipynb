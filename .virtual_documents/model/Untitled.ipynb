from PIL import Image

# 打开 TIFF 图片文件
tiff_image = Image.open("../image/model_architecture.tiff")

# 将 TIFF 图片转换为 PNG 格式
png_image = tiff_image.convert("RGB")

# 保存转换后的 PNG 图片
png_image.save("../image/model_architecture.png", "PNG")

print("TIFF 图片已成功转换为 PNG 格式!")



