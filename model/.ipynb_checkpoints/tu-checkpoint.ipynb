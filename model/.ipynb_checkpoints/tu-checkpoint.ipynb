{
 "cells": [
  {
   "cell_type": "code",
   "execution_count": 13,
   "id": "b775e136-f6d7-4515-b327-52abd582ceb4",
   "metadata": {},
   "outputs": [],
   "source": [
    "import base64\n",
    "import requests\n",
    "from io import BytesIO\n",
    "from PIL import Image\n",
    "\n",
    "def mm(graph):\n",
    "    graphbytes = graph.encode(\"utf8\")\n",
    "    base64_bytes = base64.b64encode(graphbytes)\n",
    "    base64_string = base64_bytes.decode(\"ascii\")\n",
    "    \n",
    "    # 从 mermaid.ink 获取渲染后的图像\n",
    "    response = requests.get(\"https://mermaid.ink/img/\" + base64_string)\n",
    "    \n",
    "    # 将图像数据加载到 BytesIO 对象中\n",
    "    image_data = BytesIO(response.content)\n",
    "    \n",
    "    # 打开图像并转换为高分辨率 TIFF 格式\n",
    "    with Image.open(image_data) as image:\n",
    "        # 设置 DPI 为 300\n",
    "        image.info['dpi'] = (300, 300)\n",
    "        \n",
    "        # 将图像转换为 TIFF 格式并保存\n",
    "        image.save('mermaid_chart_high_resolution.tiff', format='TIFF', dpi=(300, 300))\n",
    "\n",
    "mm(\"\"\"\n",
    "graph TD\n",
    "    A[miRNA Data] --> B[Multi-Head Attention]\n",
    "    C[mRNA Data] --> D[Multi-Head Attention]\n",
    "    E[DNA Methylation Data] --> F[Multi-Head Attention]\n",
    "    F --> G[1×1 Convolution]\n",
    "    B --> H[Adjusted miRNA Features]\n",
    "    D --> I[Adjusted mRNA Features]\n",
    "    G --> J[Compressed Methylation Features]\n",
    "    H --> K[Combined Features]\n",
    "    I --> K\n",
    "    J --> K\n",
    "    K --> L[Aligned Data]\n",
    "    M[Clinical Data] --> L\n",
    "    L --> S[Classification Head]\n",
    "    \n",
    "    classDef model fill:#f9d,stroke:#333,stroke-width:2px;\n",
    "    class L,S model;\n",
    "\"\"\")"
   ]
  },
  {
   "cell_type": "code",
   "execution_count": null,
   "id": "98626908-aada-4cc5-94db-8b594fd2a95d",
   "metadata": {},
   "outputs": [],
   "source": []
  }
 ],
 "metadata": {
  "kernelspec": {
   "display_name": "Python 3 (ipykernel)",
   "language": "python",
   "name": "python3"
  },
  "language_info": {
   "codemirror_mode": {
    "name": "ipython",
    "version": 3
   },
   "file_extension": ".py",
   "mimetype": "text/x-python",
   "name": "python",
   "nbconvert_exporter": "python",
   "pygments_lexer": "ipython3",
   "version": "3.10.14"
  }
 },
 "nbformat": 4,
 "nbformat_minor": 5
}
